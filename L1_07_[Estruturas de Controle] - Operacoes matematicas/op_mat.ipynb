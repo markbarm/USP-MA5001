{
 "cells": [
  {
   "cell_type": "code",
   "execution_count": null,
   "metadata": {},
   "outputs": [],
   "source": [
    "input_=123*324\n",
    "\n",
    "# criar um dicionário com caracteres que representão operações\n",
    "# a partir da entrada identificar o caracter para associonar ao nome da operação\n",
    "# a entrada será um "
   ]
  }
 ],
 "metadata": {
  "language_info": {
   "name": "python"
  }
 },
 "nbformat": 4,
 "nbformat_minor": 2
}
