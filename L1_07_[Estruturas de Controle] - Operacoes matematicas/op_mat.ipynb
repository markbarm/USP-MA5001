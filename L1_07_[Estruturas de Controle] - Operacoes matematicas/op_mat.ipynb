{
 "cells": [
  {
   "cell_type": "code",
   "execution_count": null,
   "metadata": {},
   "outputs": [],
   "source": [
    "input_=123*324\n",
    "\n",
    "# criar um dicionário com caracteres que representarão operaçõe\n",
    "\n",
    "# a entrada será do tipo string e usando um loop será o processo da identificação\n",
    "\n",
    "# em seguida, deverá ser chamada a função correspondente e realizar a operação.\n",
    "# para isso deveremos criar funções para cada operção: Soma, subtração, potencia, "
   ]
  }
 ],
 "metadata": {
  "language_info": {
   "name": "python"
  }
 },
 "nbformat": 4,
 "nbformat_minor": 2
}
