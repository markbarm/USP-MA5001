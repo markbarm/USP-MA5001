{
 "cells": [
  {
   "cell_type": "code",
   "execution_count": 77,
   "metadata": {},
   "outputs": [],
   "source": [
    "import math\n",
    "input_='-345/1024'\n",
    "\n",
    "# criar um dicionário com caracteres que representarão operaçõe\n",
    "operacoes = {'+':'soma',\n",
    "             '-':'subtracao',\n",
    "             '*':'multiplicacao',\n",
    "             '/':'divisao',\n",
    "             '^':'potencia'\n",
    "             }\n",
    "\n",
    "# criar funções para cada operção: \n",
    "# Soma (+), subtração (-), multiplicação(*),  divisão(/) e potência (^)\n",
    "\n",
    "\n",
    "def soma(a,b):\n",
    "    return a+b\n",
    "def subtracao(a,b):\n",
    "    return a-b\n",
    "def multiplicacao(a,b):\n",
    "    return a*b\n",
    "def divisao(a,b):\n",
    "    if b==0:\n",
    "        return 'Erro: divisão por zero'\n",
    "    return math.trunc(a/b*1000)/1000\n",
    "def potencia(a,b):\n",
    "    if (a,b)==(0,0):\n",
    "        return 'Erro: base e expoente nulos'\n",
    "    return a**b\n",
    "\n",
    "def aplicacao(func,a,b):\n",
    "    return func(a,b)"
   ]
  },
  {
   "cell_type": "code",
   "execution_count": 78,
   "metadata": {},
   "outputs": [
    {
     "data": {
      "text/plain": [
       "-0.336"
      ]
     },
     "execution_count": 78,
     "metadata": {},
     "output_type": "execute_result"
    }
   ],
   "source": [
    "\n",
    "\n",
    "# a entrada será do tipo string e usando um loop será o processo da identificação\n",
    "for i in range(1,len(input_)):\n",
    "    if input_[i] in '+-*/^':\n",
    "        symbol=input_[i]\n",
    "        num1=int(input_[0:i])\n",
    "        num2=int(input_[i+1:len(input_)])\n",
    "        break\n",
    "aplicacao(eval(operacoes[symbol]),num1,num2)\n"
   ]
  },
  {
   "cell_type": "code",
   "execution_count": 13,
   "metadata": {},
   "outputs": [],
   "source": []
  }
 ],
 "metadata": {
  "kernelspec": {
   "display_name": "Python 3",
   "language": "python",
   "name": "python3"
  },
  "language_info": {
   "codemirror_mode": {
    "name": "ipython",
    "version": 3
   },
   "file_extension": ".py",
   "mimetype": "text/x-python",
   "name": "python",
   "nbconvert_exporter": "python",
   "pygments_lexer": "ipython3",
   "version": "3.10.12"
  }
 },
 "nbformat": 4,
 "nbformat_minor": 2
}
