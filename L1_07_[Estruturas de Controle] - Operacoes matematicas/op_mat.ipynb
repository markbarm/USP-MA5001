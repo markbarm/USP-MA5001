{
 "cells": [
  {
   "cell_type": "code",
   "execution_count": 88,
   "metadata": {},
   "outputs": [],
   "source": [
    "import math\n",
    "# criar um dicionário com caracteres que representarão operaçõe\n",
    "operacoes = {'+':'soma',\n",
    "             '-':'subtracao',\n",
    "             '*':'multiplicacao',\n",
    "             '/':'divisao',\n",
    "             '^':'potencia'\n",
    "             }\n",
    "\n",
    "def reconhecer(linha):\n",
    "    for i in range(1,len(linha)):\n",
    "        if linha[i] in '+-*/^':\n",
    "            return linha[i], int(linha[0:i]), int(linha[i+1:len(linha)])\n",
    "\n",
    "# criar funções para cada operção: \n",
    "# Soma (+), subtração (-), multiplicação(*),  divisão(/) e potência (^)\n",
    "\n",
    "\n",
    "def soma(a,b):\n",
    "    return print(a+b)\n",
    "\n",
    "def subtracao(a,b):\n",
    "    return print(a-b)\n",
    "\n",
    "def multiplicacao(a,b):\n",
    "    return print(a*b)\n",
    "\n",
    "def divisao(a,b):\n",
    "    if b==0:\n",
    "        return print('Erro: divisão por zero')\n",
    "    return print(math.trunc(a/b*1000)/1000)\n",
    "\n",
    "def potencia(a,b):\n",
    "    if (a,b)==(0,0):\n",
    "        return print('Erro: base e expoente nulos')\n",
    "    return print(a**b)\n"
   ]
  },
  {
   "cell_type": "code",
   "execution_count": 90,
   "metadata": {},
   "outputs": [
    {
     "name": "stdout",
     "output_type": "stream",
     "text": [
      "-0.336\n"
     ]
    }
   ],
   "source": [
    "input_='-345/1024'\n",
    "\n",
    "# a entrada será do tipo string e usando um loop será o processo da identificação\n",
    "symbol,num1,num2 = reconhecer(input_)\n",
    "\n",
    "eval(operacoes[symbol])(num1,num2)\n"
   ]
  },
  {
   "cell_type": "code",
   "execution_count": 6,
   "metadata": {},
   "outputs": [
    {
     "name": "stdout",
     "output_type": "stream",
     "text": [
      "5 é ímpar\n"
     ]
    }
   ],
   "source": [
    "n = 5\n",
    "\n",
    "print(f\"{n} é par\") if n%2==0 else print(f\"{n} é ímpar\")\n",
    "#if n%2==0: print(f\"{n} é par\") \n",
    "#else: print(f\"{n} é ímpar\") "
   ]
  },
  {
   "cell_type": "code",
   "execution_count": null,
   "metadata": {},
   "outputs": [],
   "source": []
  }
 ],
 "metadata": {
  "kernelspec": {
   "display_name": "Python 3",
   "language": "python",
   "name": "python3"
  },
  "language_info": {
   "codemirror_mode": {
    "name": "ipython",
    "version": 3
   },
   "file_extension": ".py",
   "mimetype": "text/x-python",
   "name": "python",
   "nbconvert_exporter": "python",
   "pygments_lexer": "ipython3",
   "version": "3.10.12"
  }
 },
 "nbformat": 4,
 "nbformat_minor": 2
}
