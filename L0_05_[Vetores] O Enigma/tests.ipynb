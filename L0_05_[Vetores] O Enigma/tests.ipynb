{
 "cells": [
  {
   "cell_type": "code",
   "execution_count": 1,
   "metadata": {},
   "outputs": [],
   "source": [
    "def girar(lista):\n",
    "    tamanho = len(lista)\n",
    "    aux=lista[0]\n",
    "    for i in range(1,tamanho):\n",
    "        lista[i-1]=lista[i]\n",
    "    lista[tamanho-1]=aux\n",
    "    return lista\n",
    "\n",
    "def decriptogafar(i,r1,r2,r3,count):\n",
    "    i=r3[r2[r1[i]]]\n",
    "    r1 = girar(r1)\n",
    "    count[0] += 1\n",
    "    if count[0]//26 != count[1]:\n",
    "        r2 = girar(r2)\n",
    "        count[1] += 1\n",
    "    if count[1]//26!=count[2]:    \n",
    "        r3=girar(r3)\n",
    "        count[2]+=1\n",
    "    return i,r1,r2,r3,count\n",
    "    "
   ]
  },
  {
   "cell_type": "code",
   "execution_count": 2,
   "metadata": {},
   "outputs": [],
   "source": [
    "rotor_1=[1,2,3,4,5,6,7,8,9,10,11,12,13,14,15,16,17,18,19,20,21,22,23,24,25,0]\n",
    "rotor_2=[1,2,3,4,5,6,7,8,9,10,11,12,13,14,15,16,17,18,19,20,21,22,23,24,25,0]\n",
    "rotor_3=[1,2,3,4,5,6,7,8,9,10,11,12,13,14,15,16,17,18,19,20,21,22,23,24,25,0]\n",
    "line='Jaimtyvc hspdpdj ixan. Zdtjar jeibtk.'"
   ]
  },
  {
   "cell_type": "code",
   "execution_count": 3,
   "metadata": {},
   "outputs": [
    {
     "name": "stdout",
     "output_type": "stream",
     "text": [
      "[13, 0, 2, 15, 10, 25, 6, 24, 5, 4, 16, 17, 21, 19, 3, 23, 22, 14, 1, 12, 18, 8, 20, 7, 11, 9]\n",
      "[14, 2, 6, 3, 17, 21, 7, 10, 24, 15, 8, 16, 1, 12, 5, 11, 22, 25, 19, 4, 0, 20, 13, 18, 23, 9]\n",
      "[19, 25, 2, 7, 22, 5, 13, 0, 18, 12, 20, 14, 4, 24, 17, 10, 21, 1, 3, 6, 9, 11, 15, 8, 23, 16]\n"
     ]
    }
   ],
   "source": [
    "rot1='13  0 2 15 10 25  6 24  5  4 16 17 21 19  3 23 22 14  1 12 18  8 20  7 11  9'\n",
    "rot2='14  2 6  3 17 21  7 10 24 15  8 16  1 12  5 11 22 25 19  4  0 20 13 18 23  9'\n",
    "rot3='19 25 2  7 22  5 13  0 18 12 20 14  4 24 17 10 21  1  3  6  9 11 15  8 23 16'\n",
    "line='Iczxb cexpw fswqn prf omgb wgeftalqjbz bigtencnacu bqvs. Llzqpx nx'\n",
    "rotor_1=list(map(int,rot1.split()))\n",
    "rotor_2=list(map(int,rot2.split()))\n",
    "rotor_3=list(map(int,rot3.split()))\n",
    "print(rotor_1)\n",
    "print(rotor_2)\n",
    "print(rotor_3)"
   ]
  },
  {
   "cell_type": "code",
   "execution_count": 4,
   "metadata": {},
   "outputs": [
    {
     "name": "stdout",
     "output_type": "stream",
     "text": [
      "Iczxb cexpw fswqn prf omgb wgeftalqjbz bigtencnacu bqvs. Llzqpx nx\n",
      "Lorem ipsum dolor sit amet consectetur adipisicing elit. Maxime mo\n"
     ]
    }
   ],
   "source": [
    "msg_decrip = ''\n",
    "contador = [0,0,0]\n",
    "print(line)\n",
    "for c in line:\n",
    "    if ord(c)>=65 and ord(c)<=90: #caractere Maiúsculo\n",
    "        index=ord(c)-65\n",
    "        index,rotor_1,rotor_2,rotor_3,contador = decriptogafar(index,rotor_1,rotor_2,rotor_3,contador)       \n",
    "        letra=chr(index+65)\n",
    "    elif ord(c)>=97 and ord(c)<=122: #caractere minúsculo               \n",
    "        index=ord(c)-97\n",
    "        index,rotor_1,rotor_2,rotor_3,contador = decriptogafar(index,rotor_1,rotor_2,rotor_3,contador)\n",
    "        letra=chr(index+97)\n",
    "    else:\n",
    "        letra=c\n",
    "    msg_decrip+=letra\n",
    "print(msg_decrip)"
   ]
  }
 ],
 "metadata": {
  "kernelspec": {
   "display_name": "Python 3",
   "language": "python",
   "name": "python3"
  },
  "language_info": {
   "codemirror_mode": {
    "name": "ipython",
    "version": 3
   },
   "file_extension": ".py",
   "mimetype": "text/x-python",
   "name": "python",
   "nbconvert_exporter": "python",
   "pygments_lexer": "ipython3",
   "version": "3.10.12"
  }
 },
 "nbformat": 4,
 "nbformat_minor": 2
}
