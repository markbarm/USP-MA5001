{
 "cells": [
  {
   "cell_type": "markdown",
   "metadata": {},
   "source": [
    "Criar um programa em python que identifique se a senha é válida. \n",
    "\n",
    "**O programa deve usar uma função recursiva para identificar os caracteres da senha.**\n",
    "\n",
    "A senha deverá ter pelo menos 1 letra maiúscula, 1 letra minúscula, 1 caracter não alfanumérico (@,#,etc.) e 1 dígito.\n",
    "\n",
    "A senha deve ter pelo menos 8 caracteres."
   ]
  },
  {
   "cell_type": "code",
   "execution_count": 158,
   "metadata": {},
   "outputs": [],
   "source": [
    "def caracteres(lista):\n",
    "    \n",
    "    if len(lista)==1:\n",
    "        if lista[0].isupper():\n",
    "            return 'M' #Maiúscula\n",
    "        elif lista[0].islower():\n",
    "            return 'm' #minúscula\n",
    "        elif lista[0].isdigit():\n",
    "            return 'd' #dígito\n",
    "        else:\n",
    "            return '@' #não alfanumérico\n",
    "    else: \n",
    "        return caracteres([lista.pop()]) + caracteres(lista)"
   ]
  },
  {
   "cell_type": "code",
   "execution_count": 159,
   "metadata": {},
   "outputs": [
    {
     "name": "stdout",
     "output_type": "stream",
     "text": [
      "rREAz&$2 Válida Válida\n",
      "!f7t&a23% Inválida Inválida\n",
      "@AcT%BuY Inválida Inválida\n",
      "Bm@Ct1018 Válida Válida\n",
      "DP!#1018 Inválida Inválida\n"
     ]
    }
   ],
   "source": [
    "path = %pwd\n",
    "\n",
    "for i in range(5):\n",
    "    f = open(f'{path}/{i+1}.in')\n",
    "    senha = f.readline()\n",
    "    f.close()\n",
    "    f = open(f'{path}/{i+1}.out')\n",
    "    resultado = f.readline()\n",
    "    f.close()\n",
    "    print(senha, resultado, end=' ')\n",
    "    if len(senha)>=8 and len(set(caracteres(list(senha)))) >= 4:\n",
    "        print('Válida')\n",
    "    else:\n",
    "        print('Inválida')"
   ]
  },
  {
   "cell_type": "code",
   "execution_count": null,
   "metadata": {},
   "outputs": [],
   "source": []
  }
 ],
 "metadata": {
  "kernelspec": {
   "display_name": "Python 3",
   "language": "python",
   "name": "python3"
  },
  "language_info": {
   "codemirror_mode": {
    "name": "ipython",
    "version": 3
   },
   "file_extension": ".py",
   "mimetype": "text/x-python",
   "name": "python",
   "nbconvert_exporter": "python",
   "pygments_lexer": "ipython3",
   "version": "3.10.12"
  }
 },
 "nbformat": 4,
 "nbformat_minor": 2
}
