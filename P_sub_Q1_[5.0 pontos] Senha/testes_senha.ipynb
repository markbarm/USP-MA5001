{
 "cells": [
  {
   "cell_type": "markdown",
   "metadata": {},
   "source": [
    "Criar um programa em python que identifique se a senha é válida. \n",
    "\n",
    "**O programa deve usar uma função recursiva para identificar os caracteres da senha.**\n",
    "\n",
    "A senha deverá ter pelo menos 1 letra maiúscula, 1 letra minúscula, 1 caracter não alfanumérico (@,#,etc.) e 1 dígito.\n",
    "\n",
    "A senha deve ter pelo menos 8 caracteres."
   ]
  },
  {
   "cell_type": "code",
   "execution_count": null,
   "metadata": {},
   "outputs": [],
   "source": [
    "#le uma linha senha\n",
    "\n",
    "# identifica pelo menos 8 caracteres\n",
    "\n",
    "#função recursiva que cria um set de elementos M, m, alfa, não alfa. \n",
    "\n",
    "#identifica pelo menos os 4 elementos\n",
    "\n"
   ]
  }
 ],
 "metadata": {
  "language_info": {
   "name": "python"
  }
 },
 "nbformat": 4,
 "nbformat_minor": 2
}
