{
 "cells": [
  {
   "cell_type": "code",
   "execution_count": 7,
   "metadata": {},
   "outputs": [
    {
     "name": "stdout",
     "output_type": "stream",
     "text": [
      "16.32 Baixo peso\n"
     ]
    }
   ],
   "source": [
    "import math\n",
    "\n",
    "input='2.1,72'\n",
    "altura, massa = map(float,input.split(','))\n",
    "imc = math.floor(100*massa/altura**2)/100\n",
    "if imc < 18.5:\n",
    "    print('{0:.2f} Baixo peso'.format(imc))\n",
    "elif imc < 25.0:\n",
    "    print('{0:.2f} Peso adequado'.format(imc))\n",
    "else:\n",
    "    print('{0:.2f} Sobrepeso'.format(imc))"
   ]
  },
  {
   "cell_type": "code",
   "execution_count": null,
   "metadata": {},
   "outputs": [],
   "source": []
  }
 ],
 "metadata": {
  "kernelspec": {
   "display_name": "Python 3",
   "language": "python",
   "name": "python3"
  },
  "language_info": {
   "codemirror_mode": {
    "name": "ipython",
    "version": 3
   },
   "file_extension": ".py",
   "mimetype": "text/x-python",
   "name": "python",
   "nbconvert_exporter": "python",
   "pygments_lexer": "ipython3",
   "version": "3.10.12"
  }
 },
 "nbformat": 4,
 "nbformat_minor": 2
}
