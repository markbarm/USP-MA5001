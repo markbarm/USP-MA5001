{
 "cells": [
  {
   "cell_type": "markdown",
   "metadata": {},
   "source": [
    "# Definição Classe funcionário"
   ]
  },
  {
   "cell_type": "code",
   "execution_count": 1,
   "metadata": {},
   "outputs": [],
   "source": [
    "#Classe funcionário\n",
    "\n",
    "class Funcionario(object):\n",
    "\n",
    "    def __init__(self,nome,salario,dept):\n",
    "        self.nome = nome\n",
    "        self.salario = float(salario)\n",
    "        self.dept = dept\n",
    "    \n",
    "    #método get_nome\n",
    "    def get_nome(self):\n",
    "        return self.nome\n",
    "    \n",
    "    #método set_salário\n",
    "    def set_salario(self,horas):\n",
    "        horas = int(horas)\n",
    "        if horas > 50: self.salario *= horas/50\n",
    "\n",
    "    #método set_departamento\n",
    "    def set_departamento(self, dept):\n",
    "        self.dept = dept\n",
    "    \n",
    "    #método __str__\n",
    "    def __str__(self):\n",
    "        return self.nome +' '+ format(self.salario,\".1f\") +' '+ self.dept"
   ]
  },
  {
   "cell_type": "markdown",
   "metadata": {},
   "source": [
    "# Funções\n",
    "1. Ajuste de Salário\n",
    "2. Maior Salário\n",
    "3. Departamento Novo\n",
    "4. Média Salarial\n",
    "5. Lê funcionário"
   ]
  },
  {
   "cell_type": "code",
   "execution_count": 9,
   "metadata": {},
   "outputs": [],
   "source": [
    "#Função 1. Recebe o nome e horas trabalhadas, retornando os dados do funcionário com o salário ajustado.\n",
    "def ajuste_sal(lista,nome,horas):\n",
    "    for f in lista:\n",
    "        if f.nome == nome: \n",
    "            f.set_salario(horas)\n",
    "            return print(f)\n",
    "    return print('funcionario não encontrado')\n",
    "\n",
    "#Função 2. \n",
    "def maior_sal(lista):\n",
    "    maximo = 0\n",
    "    for x in lista:\n",
    "        if x.salario > maximo:\n",
    "            f_maior = x\n",
    "            maximo = x.salario\n",
    "    return print(f_maior)\n",
    "\n",
    "#Função 3. Recebe o nome e novo departamento do funcionário, retornando os dados atualizados.\n",
    "def novo_dept(lista,nome, novo):\n",
    "    for f in lista:\n",
    "        if f.nome == nome: \n",
    "            f.set_departamento(novo)\n",
    "            return print(f)\n",
    "    return print('funcionario não encontrado')\n",
    "\n",
    "#Função 4. Retorna a média salarial da lista de funcionários\n",
    "def media_sal(lista):\n",
    "    media = 0\n",
    "    for f in lista:\n",
    "        media += f.salario/len(lista)\n",
    "    return print('{0:.2f}'.format(media))\n",
    "\n",
    "# Função Lê funcionário\n",
    "def le_funcionario(linha):\n",
    "    nome, sal, dept = linha.split(' ')\n",
    "    return Funcionario(nome, sal, dept)\n"
   ]
  },
  {
   "cell_type": "code",
   "execution_count": 13,
   "metadata": {},
   "outputs": [
    {
     "name": "stdout",
     "output_type": "stream",
     "text": [
      "mark  2500 ti\n",
      "mark*2500 ti\n"
     ]
    }
   ],
   "source": [
    "linha = input()\n",
    "print(linha)\n",
    "\n",
    "if '  ' in linha:\n",
    "    linha = linha.replace('  ','*')\n",
    "    print(linha)\n",
    "# x = le_funcionario(linha)\n",
    "# print(x)"
   ]
  },
  {
   "cell_type": "markdown",
   "metadata": {},
   "source": [
    "# Casos Teste 1"
   ]
  },
  {
   "cell_type": "code",
   "execution_count": 28,
   "metadata": {},
   "outputs": [
    {
     "name": "stdout",
     "output_type": "stream",
     "text": [
      "Ana 18850.0 TI\n"
     ]
    }
   ],
   "source": [
    "linha_1 = 8\n",
    "linha_2 = \"Ana 14500 TI Joao 10000 Venda Marcelo 8500 RH Silvia 12500 PRODUCAO Roberta 7500 Venda Pedro 6000 RH Maria 18500 Diretoria Carlos 16500 Diretornia\"\n",
    "linha_3 = 1\n",
    "linha_4 = \"Ana 65\"\n",
    "\n",
    "\n",
    "#Entrada de dados\n",
    "tam = int(linha_1)\n",
    "\n",
    "if \"  \" in linha_2: linha_2.replace(\"  \",\" \")\n",
    "linha_2 = linha_2.split(' ')\n",
    "equipe = []\n",
    "for i in range(tam):\n",
    "    nome, sal, dept = linha_2[3*i+0],linha_2[3*i+1],linha_2[3*i+2]\n",
    "    equipe.append(Funcionario(nome, sal, dept))\n",
    "\n",
    "#Algoritmo\n",
    "nome, horas = linha_4.split(' ')\n",
    "ajuste_sal(equipe,nome,horas)"
   ]
  },
  {
   "cell_type": "markdown",
   "metadata": {},
   "source": [
    "# Caso Teste 2"
   ]
  },
  {
   "cell_type": "code",
   "execution_count": 35,
   "metadata": {},
   "outputs": [
    {
     "name": "stdout",
     "output_type": "stream",
     "text": [
      "Maria 18500.0 Diretoria\n"
     ]
    }
   ],
   "source": [
    "linha_1 = 8\n",
    "linha_2 = \"Ana 14500 TI Joao 10000 Venda Marcelo 8500 RH Silvia 12500 PRODUCAO Roberta 7500 Venda Pedro 6000 RH Maria 18500 Diretoria Carlos 16500 Diretornia\"\n",
    "linha_3 = 2\n",
    "\n",
    "#Entrada de dados\n",
    "tam = int(linha_1)\n",
    "\n",
    "if \"  \" in linha_2: linha_2.replace(\"  \",\" \")\n",
    "linha_2 = linha_2.split(' ')\n",
    "equipe = []\n",
    "for i in range(tam):\n",
    "    nome, sal, dept = linha_2[3*i+0],linha_2[3*i+1],linha_2[3*i+2]\n",
    "    equipe.append(Funcionario(nome, sal, dept))\n",
    "\n",
    "#Algoritmo\n",
    "maior_sal(equipe)"
   ]
  },
  {
   "cell_type": "markdown",
   "metadata": {},
   "source": [
    "# Caso Teste 3"
   ]
  },
  {
   "cell_type": "code",
   "execution_count": 29,
   "metadata": {},
   "outputs": [
    {
     "name": "stdout",
     "output_type": "stream",
     "text": [
      "Joao 10000.0 RH\n"
     ]
    }
   ],
   "source": [
    "linha_1 = 8\n",
    "linha_2 = \"Ana 14500 TI Joao 10000 Venda Marcelo 8500 RH Silvia 12500 PRODUCAO Roberta 7500 Venda Pedro 6000 RH Maria 18500 Diretoria Carlos 16500 Diretornia\"\n",
    "linha_3 = 3\n",
    "linha_4 = 'Joao RH'\n",
    "\n",
    "#Entrada de dados\n",
    "tam = int(linha_1)\n",
    "\n",
    "if \"  \" in linha_2: linha_2.replace(\"  \",\" \")\n",
    "linha_2 = linha_2.split(' ')\n",
    "equipe = []\n",
    "for i in range(tam):\n",
    "    nome, sal, dept = linha_2[3*i+0],linha_2[3*i+1],linha_2[3*i+2]\n",
    "    equipe.append(Funcionario(nome, sal, dept))\n",
    "\n",
    "#Algoritmo\n",
    "nome, novo = linha_4.split(' ')\n",
    "novo_dept(equipe,nome,novo)"
   ]
  },
  {
   "cell_type": "markdown",
   "metadata": {},
   "source": [
    "# Caso Teste 4"
   ]
  },
  {
   "cell_type": "code",
   "execution_count": 59,
   "metadata": {},
   "outputs": [
    {
     "name": "stdout",
     "output_type": "stream",
     "text": [
      "11750.00\n"
     ]
    }
   ],
   "source": [
    "#caso teste 3\n",
    "linha_1 = 8\n",
    "linha_2 = \"Ana 14500 TI Joao 10000 Venda Marcelo 8500 RH Silvia 12500 PRODUCAO Roberta 7500 Venda Pedro 6000 RH Maria 18500 Diretoria Carlos 16500 Diretornia\"\n",
    "linha_3 = 4\n",
    "\n",
    "#Entrada de dados\n",
    "tam = int(linha_1)\n",
    "\n",
    "if \"  \" in linha_2: linha_2.replace(\"  \",\" \")\n",
    "linha_2 = linha_2.split(' ')\n",
    "equipe = []\n",
    "for i in range(tam):\n",
    "    nome, sal, dept = linha_2[3*i+0],linha_2[3*i+1],linha_2[3*i+2]\n",
    "    equipe.append(Funcionario(nome, sal, dept))\n",
    "\n",
    "#Algoritmo\n",
    "media_sal(equipe)"
   ]
  },
  {
   "cell_type": "code",
   "execution_count": 1,
   "metadata": {},
   "outputs": [
    {
     "name": "stdout",
     "output_type": "stream",
     "text": [
      "1\n"
     ]
    }
   ],
   "source": [
    "num = '1 '\n",
    "num = int(num)\n",
    "print(num)"
   ]
  },
  {
   "cell_type": "code",
   "execution_count": null,
   "metadata": {},
   "outputs": [],
   "source": []
  }
 ],
 "metadata": {
  "kernelspec": {
   "display_name": "Python 3",
   "language": "python",
   "name": "python3"
  },
  "language_info": {
   "codemirror_mode": {
    "name": "ipython",
    "version": 3
   },
   "file_extension": ".py",
   "mimetype": "text/x-python",
   "name": "python",
   "nbconvert_exporter": "python",
   "pygments_lexer": "ipython3",
   "version": "3.10.12"
  }
 },
 "nbformat": 4,
 "nbformat_minor": 2
}
