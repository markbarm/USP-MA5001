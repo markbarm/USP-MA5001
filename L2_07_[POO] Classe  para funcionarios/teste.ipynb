{
 "cells": [
  {
   "cell_type": "code",
   "execution_count": 75,
   "metadata": {},
   "outputs": [],
   "source": [
    "#Classe funcionário\n",
    "\n",
    "class Funcionario(object):\n",
    "\n",
    "    def __init__(self,nome,salario,dept):\n",
    "        self.nome = nome\n",
    "        self.salario = float(salario)\n",
    "        self.dept = dept\n",
    "    \n",
    "    #método get_nome\n",
    "    def get_nome(self):\n",
    "        return self.nome\n",
    "    \n",
    "    #método set_salário\n",
    "    def set_salario(self,horas):\n",
    "        horas = int(horas)\n",
    "        if horas > 50: self.salario *= horas/50\n",
    "\n",
    "    #método set_departamento\n",
    "    def set_departamento(self, dept):\n",
    "        self.dept = dept\n",
    "    \n",
    "    #método __str__\n",
    "    def __str__(self):\n",
    "        return self.nome +' '+ format(self.salario,\".1f\") +' '+ self.dept"
   ]
  },
  {
   "cell_type": "code",
   "execution_count": 88,
   "metadata": {},
   "outputs": [],
   "source": [
    "input=\"Ana 14500 TI Joao 10000 Venda Marcelo 8500 RH Silvia 12500 PRODUCAO Roberta 7500 Venda Pedro 6000 RH Maria 18500 Diretoria Carlos 16500 Diretornia\"\n",
    "if \"  \" in input: input.replace(\"  \",\" \")\n",
    "input=input.split(' ')\n",
    "tam = int(len(input)/3)\n",
    "\n",
    "equipe = []\n",
    "for i in range(tam):\n",
    "    nome, sal, dept = input[0+3*i],input[1+3*i],input[2+3*i]\n",
    "    equipe.append(Funcionario(nome, sal, dept))"
   ]
  },
  {
   "cell_type": "code",
   "execution_count": 84,
   "metadata": {},
   "outputs": [
    {
     "name": "stdout",
     "output_type": "stream",
     "text": [
      "Ana 18850.0 TI\n"
     ]
    }
   ],
   "source": [
    "#Função 1. Recebe o nome e horas trabalhadas, retornando os dados do funcionário com o salário ajustado.\n",
    "def ajuste_sal(lista,nome,horas):\n",
    "    for f in lista:\n",
    "        if f.nome == nome: \n",
    "            f.set_salario(horas)\n",
    "            return print(f)\n",
    "    return print('funcionario não encontrado')\n",
    "#output função 1\n",
    "input=\"Ana 65\"\n",
    "nome, horas = input.split(' ')\n",
    "ajuste_sal(equipe,nome,horas)"
   ]
  },
  {
   "cell_type": "code",
   "execution_count": 87,
   "metadata": {},
   "outputs": [
    {
     "name": "stdout",
     "output_type": "stream",
     "text": [
      "Joao 10000.0 RH\n"
     ]
    }
   ],
   "source": [
    "#Função 3. Recebe o nome e novo departamento do funcionário, retornando os dados atualizados.\n",
    "def novo_dept(lista,nome, novo):\n",
    "    for f in lista:\n",
    "        if f.nome == nome: \n",
    "            f.set_departamento(novo)\n",
    "            return print(f)\n",
    "    return print('funcionario não encontrado')\n",
    "\n",
    "#output função 3\n",
    "input='Joao RH'\n",
    "nome, novo = input.split(' ')\n",
    "novo_dept(equipe,nome,novo)"
   ]
  },
  {
   "cell_type": "code",
   "execution_count": 89,
   "metadata": {},
   "outputs": [
    {
     "name": "stdout",
     "output_type": "stream",
     "text": [
      "11750.00\n"
     ]
    }
   ],
   "source": [
    "#Função 4. Retorna a média salarial da lista de funcionários\n",
    "def media_sal(lista):\n",
    "    media = 0\n",
    "    for f in lista:\n",
    "        media += f.salario/len(lista)\n",
    "    return print('{0:.2f}'.format(media))\n",
    "\n",
    "#output função 4\n",
    "media_sal(equipe)"
   ]
  },
  {
   "cell_type": "code",
   "execution_count": 78,
   "metadata": {},
   "outputs": [
    {
     "name": "stdout",
     "output_type": "stream",
     "text": [
      "Ana 18850.0 TI\n"
     ]
    }
   ],
   "source": []
  },
  {
   "cell_type": "code",
   "execution_count": null,
   "metadata": {},
   "outputs": [],
   "source": []
  }
 ],
 "metadata": {
  "kernelspec": {
   "display_name": "Python 3",
   "language": "python",
   "name": "python3"
  },
  "language_info": {
   "codemirror_mode": {
    "name": "ipython",
    "version": 3
   },
   "file_extension": ".py",
   "mimetype": "text/x-python",
   "name": "python",
   "nbconvert_exporter": "python",
   "pygments_lexer": "ipython3",
   "version": "3.10.12"
  }
 },
 "nbformat": 4,
 "nbformat_minor": 2
}
