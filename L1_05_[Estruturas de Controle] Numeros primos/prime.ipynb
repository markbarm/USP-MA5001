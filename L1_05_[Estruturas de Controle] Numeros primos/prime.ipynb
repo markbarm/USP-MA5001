{
 "cells": [
  {
   "cell_type": "code",
   "execution_count": 67,
   "metadata": {},
   "outputs": [],
   "source": [
    "def is_prime(n):\n",
    "    test = True\n",
    "    for i in range(2,n):\n",
    "        if n%i == 0:\n",
    "            test= False\n",
    "            break\n",
    "    return test "
   ]
  },
  {
   "cell_type": "code",
   "execution_count": 81,
   "metadata": {},
   "outputs": [],
   "source": [
    "input = '2070 2080'\n",
    "min, max = map(int,input.split(' '))"
   ]
  },
  {
   "cell_type": "code",
   "execution_count": 82,
   "metadata": {},
   "outputs": [
    {
     "name": "stdout",
     "output_type": "stream",
     "text": [
      "Não há números primos\n"
     ]
    }
   ],
   "source": [
    "primes=[]\n",
    "for n in range(min, max+1):\n",
    "    if is_prime(n):\n",
    "        primes.append(n)\n",
    "if len(primes)>0:\n",
    "    print(*primes)\n",
    "else:\n",
    "    print('Não há números primos')"
   ]
  },
  {
   "cell_type": "code",
   "execution_count": null,
   "metadata": {},
   "outputs": [],
   "source": []
  }
 ],
 "metadata": {
  "kernelspec": {
   "display_name": "Python 3",
   "language": "python",
   "name": "python3"
  },
  "language_info": {
   "codemirror_mode": {
    "name": "ipython",
    "version": 3
   },
   "file_extension": ".py",
   "mimetype": "text/x-python",
   "name": "python",
   "nbconvert_exporter": "python",
   "pygments_lexer": "ipython3",
   "version": "3.10.12"
  }
 },
 "nbformat": 4,
 "nbformat_minor": 2
}
