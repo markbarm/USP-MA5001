{
 "cells": [
  {
   "cell_type": "code",
   "execution_count": 1,
   "metadata": {},
   "outputs": [],
   "source": [
    "def years(aniversario,hoje):\n",
    "    if (aniversario[0] <= hoje[0]) and (aniversario[1] <= hoje[1]):\n",
    "        return hoje[2] - aniversario[2] \n",
    "    else:\n",
    "        return hoje[2] - aniversario[2] - 1"
   ]
  },
  {
   "cell_type": "code",
   "execution_count": 2,
   "metadata": {},
   "outputs": [],
   "source": [
    "def months(aniversario,hoje):\n",
    "    if aniversario[0] <= hoje[0]:\n",
    "        return (12 + hoje[1] - aniversario[1])%12\n",
    "    else:\n",
    "        return (11 + hoje[1] - aniversario[1])%12"
   ]
  },
  {
   "cell_type": "code",
   "execution_count": 15,
   "metadata": {},
   "outputs": [],
   "source": [
    "from datetime import date\n",
    "def days(aniversario,hoje):\n",
    "    if aniversario[0] <= hoje[0]:\n",
    "        t1 = date(hoje[2],hoje[1],aniversario[0])\n",
    "    else:\n",
    "        if hoje[1]>1:\n",
    "            t1 = date(hoje[2],hoje[1]-1,aniversario[0])\n",
    "        else:\n",
    "            t1 = date(hoje[2]-1,12,aniversario[0])\n",
    "    t2 = date(hoje[2],hoje[1],hoje[0])\n",
    "    t3 = (t2-t1).days + 1\n",
    "    return t3"
   ]
  },
  {
   "cell_type": "code",
   "execution_count": 24,
   "metadata": {},
   "outputs": [
    {
     "name": "stdout",
     "output_type": "stream",
     "text": [
      "1 anos, 5 meses e 1 dias\n"
     ]
    }
   ],
   "source": [
    "\n",
    "input_='11/07/2023'\n",
    "\n",
    "hoje = [11, 12, 2024]\n",
    "niver = list(map(int,input_.split('/')))\n",
    "idade = []\n",
    "idade.append(days(niver,hoje))\n",
    "idade.append(months(niver,hoje))\n",
    "idade.append(years(niver,hoje))\n",
    "\n",
    "if idade[1]==1:\n",
    "    print (f'{idade[2]} anos, {idade[1]} mes e {idade[0]} dias')\n",
    "else:\n",
    "    print (f'{idade[2]} anos, {idade[1]} meses e {idade[0]} dias')"
   ]
  },
  {
   "cell_type": "code",
   "execution_count": null,
   "metadata": {},
   "outputs": [],
   "source": []
  }
 ],
 "metadata": {
  "kernelspec": {
   "display_name": "Python 3",
   "language": "python",
   "name": "python3"
  },
  "language_info": {
   "codemirror_mode": {
    "name": "ipython",
    "version": 3
   },
   "file_extension": ".py",
   "mimetype": "text/x-python",
   "name": "python",
   "nbconvert_exporter": "python",
   "pygments_lexer": "ipython3",
   "version": "3.10.12"
  }
 },
 "nbformat": 4,
 "nbformat_minor": 2
}
