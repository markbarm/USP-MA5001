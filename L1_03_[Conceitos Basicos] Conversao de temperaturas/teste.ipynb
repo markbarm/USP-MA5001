{
 "cells": [
  {
   "cell_type": "code",
   "execution_count": 21,
   "metadata": {},
   "outputs": [
    {
     "name": "stdout",
     "output_type": "stream",
     "text": [
      "14 F\n",
      "263 K\n"
     ]
    }
   ],
   "source": [
    "\"\"\"\n",
    "Desenvolva um código em python que leia um número, representando uma temperatura na escala Celsius, calcule e escreva.\n",
    "\n",
    "(a) Seu correspondente em Farenheit (F = 9*C/5 + 32)\n",
    "\n",
    "(b) Seu correspondente em Kelvin (K = C + 273)\n",
    "\"\"\"\n",
    "\n",
    "\n",
    "celcius='-10 C'\n",
    "celcius=int(celcius[:len(celcius)-2])\n",
    "if celcius%5==0:\n",
    "    print(f'{9*celcius//5+32} F')\n",
    "else:\n",
    "    print(f'{9*celcius/5+32} F')\n",
    "print(f'{celcius+273} K')"
   ]
  },
  {
   "cell_type": "code",
   "execution_count": null,
   "metadata": {},
   "outputs": [],
   "source": []
  }
 ],
 "metadata": {
  "kernelspec": {
   "display_name": "Python 3",
   "language": "python",
   "name": "python3"
  },
  "language_info": {
   "codemirror_mode": {
    "name": "ipython",
    "version": 3
   },
   "file_extension": ".py",
   "mimetype": "text/x-python",
   "name": "python",
   "nbconvert_exporter": "python",
   "pygments_lexer": "ipython3",
   "version": "3.10.12"
  }
 },
 "nbformat": 4,
 "nbformat_minor": 2
}
