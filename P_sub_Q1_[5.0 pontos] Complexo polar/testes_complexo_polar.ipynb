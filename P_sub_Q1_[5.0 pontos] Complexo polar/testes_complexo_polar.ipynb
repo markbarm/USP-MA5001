{
 "cells": [
  {
   "cell_type": "markdown",
   "metadata": {},
   "source": [
    "Crie uma classe para números complexos na forma polar, ou seja, teremos um objeto x com parte real e imaginária no formato: \n",
    "\n",
    "* x=a*[cos(b)+ i.sen(b)], onde a é o módulo e b o ângulo.\n",
    "\n",
    "\n",
    "Implemente as operações a seguir como métodos da classe complexo_P a ser criada: *, /, ^ (potência). \n",
    "\n",
    "Sejam x=a1[cos(b1) + isen(b1)] e y=x=a2[cos(b2) + isen(b2)]\n",
    "\n",
    "* x.y= a1.a2[cos(b1+b2) + isen(b1+b2)]\n",
    "\n",
    "* x/y= (a1/a2)[cos(b1-b2)+isen(b1-b2)], a2!=0\n",
    "\n",
    "* x^n=a1^n[cos(n.b1) + isen(n.b1)]\n",
    "\n",
    "Uma lista de operações será repassada, seguida pelo valor de dois números complexos como ilustrado nos exemplos abaixo de entrada e saída.\n",
    "\n",
    "A operação potência em python '**', quando ocorrer, terá o valor da potência aparecendo sempre ao final da lista de operações."
   ]
  }
 ],
 "metadata": {
  "kernelspec": {
   "display_name": "Python 3",
   "language": "python",
   "name": "python3"
  },
  "language_info": {
   "codemirror_mode": {
    "name": "ipython",
    "version": 3
   },
   "file_extension": ".py",
   "mimetype": "text/x-python",
   "name": "python",
   "nbconvert_exporter": "python",
   "pygments_lexer": "ipython3",
   "version": "3.12.3"
  }
 },
 "nbformat": 4,
 "nbformat_minor": 2
}
