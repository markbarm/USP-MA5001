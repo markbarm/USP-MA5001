{
 "cells": [
  {
   "cell_type": "markdown",
   "metadata": {},
   "source": [
    "Crie uma classe para números complexos na forma polar, ou seja, teremos um objeto x com parte real e imaginária no formato: \n",
    "\n",
    "* x=a*[cos(b)+ i.sen(b)], onde a é o módulo e b o ângulo.\n",
    "\n",
    "\n",
    "Implemente as operações a seguir como métodos da classe complexo_P a ser criada: *, /, ^ (potência). \n",
    "\n",
    "Sejam x=a1[cos(b1) + isen(b1)] e y=x=a2[cos(b2) + isen(b2)]\n",
    "\n",
    "* x.y= a1.a2[cos(b1+b2) + isen(b1+b2)]\n",
    "\n",
    "* x/y= (a1/a2)[cos(b1-b2)+isen(b1-b2)], a2!=0\n",
    "\n",
    "* x^n=a1^n[cos(n.b1) + isen(n.b1)]\n",
    "\n",
    "Uma lista de operações será repassada, seguida pelo valor de dois números complexos como ilustrado nos exemplos abaixo de entrada e saída.\n",
    "\n",
    "A operação potência em python '**', quando ocorrer, terá o valor da potência aparecendo sempre ao final da lista de operações."
   ]
  },
  {
   "cell_type": "code",
   "execution_count": 87,
   "metadata": {},
   "outputs": [],
   "source": [
    "from math import sin, cos\n",
    "\n",
    "class Complexo_Polar(object):\n",
    "\n",
    "    def __init__(self, modulo, fase):\n",
    "        self.modulo = float(modulo)\n",
    "        self.fase = float(fase)\n",
    "\n",
    "    def __str__(self):\n",
    "        return '{0:.2f}[({1:.2f})+i({2:.2f})]'.format(self.modulo,cos(self.fase),sin(self.fase))\n",
    "\n",
    "    def __mul__(self,outro):\n",
    "        return Complexo_Polar(self.modulo * outro.modulo , self.fase + outro.fase)\n",
    "    \n",
    "    def __truediv__(self,outro):\n",
    "        if outro.modulo != 0:\n",
    "            return  Complexo_Polar(self.modulo / outro.modulo , self.fase - outro.fase) \n",
    "\n",
    "    def __pow__(self,potencia):\n",
    "        self.modulo**=potencia\n",
    "        self.fase*=potencia\n",
    "        return Complexo_Polar(self.modulo,self.fase)"
   ]
  },
  {
   "cell_type": "code",
   "execution_count": 81,
   "metadata": {},
   "outputs": [],
   "source": [
    "def le_complexo(linha):\n",
    "    modulo, fase = linha.split(',')\n",
    "    return Complexo_Polar(modulo, fase)\n"
   ]
  },
  {
   "cell_type": "code",
   "execution_count": 92,
   "metadata": {},
   "outputs": [
    {
     "name": "stdout",
     "output_type": "stream",
     "text": [
      "correto\n"
     ]
    }
   ],
   "source": [
    "path = %pwd\n",
    "n=3\n",
    "\n",
    "\n",
    "with open(path+f'/{n}.in') as f:\n",
    "    linhas = [x.rstrip() for x in f]\n",
    "\n",
    "with open(path+f'/{n}.out') as f:\n",
    "    resultados = f.read()\n",
    "\n",
    "ops =  list(linhas[0].split(' '))\n",
    "a = le_complexo(linhas[1])\n",
    "b = le_complexo(linhas[2])\n",
    "\n",
    "meus_resultados = ''\n",
    "for i,op in enumerate(ops):\n",
    "    if op in '*/':\n",
    "        meus_resultados+='{0}:{1}\\n'.format(op,eval(f'a{op}b'))\n",
    "    if op =='**':\n",
    "        meus_resultados+='{0}:{1}\\n{0}:{2}'.format(op,eval(f'a{op}{int(ops[i+1])}'),eval(f'b{op}{int(ops[i+1])}'))\n",
    "\n",
    "if resultados==meus_resultados:\n",
    "    print('correto')\n",
    "else:\n",
    "    print(meus_resultados)\n",
    "    print(resultados)"
   ]
  }
 ],
 "metadata": {
  "kernelspec": {
   "display_name": "Python 3",
   "language": "python",
   "name": "python3"
  },
  "language_info": {
   "codemirror_mode": {
    "name": "ipython",
    "version": 3
   },
   "file_extension": ".py",
   "mimetype": "text/x-python",
   "name": "python",
   "nbconvert_exporter": "python",
   "pygments_lexer": "ipython3",
   "version": "3.10.12"
  }
 },
 "nbformat": 4,
 "nbformat_minor": 2
}
