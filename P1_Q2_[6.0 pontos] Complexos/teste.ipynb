{
 "cells": [
  {
   "cell_type": "code",
   "execution_count": null,
   "metadata": {},
   "outputs": [],
   "source": [
    "\"\"\"\n",
    "Crie uma classe para números complexos, ou seja, teremos um objeto x com parte real e imaginária: x.real e x.imag\n",
    "\n",
    "Implemente as operações a seguir como métodos da classe complexo a ser criada: +, -, /, *, abs, ==.\n",
    "\n",
    "Considere a seguinte representação para complexos x=(x.real) + (x.imag)i nas operações detalhadas abaixo\n",
    "\n",
    "xy= (x.realy.real - x.imagy.imag) + ( x.imagy.real + x.real*y.imag)i\n",
    "\n",
    "x/y= ( (x.realy.real+x.imagy.imag)/r ) + ( (x.imagy.real-x.realy.imag)/r )i, onde r= y.real2 + y.imag2)\n",
    "\n",
    "abs(x) = sqrt(x.real2 + x.imag2)\n",
    "\n",
    "x==y: Se (x.real==y.real) E (x.imag==y.imag), verdeiro; caso contrário, falso.\n",
    "\n",
    "Uma lista de operações será repassada, seguida pelo valor de dois números complexos como ilustrado nos exemplos abaixo de entrada e saída.\n",
    "\"\"\""
   ]
  }
 ],
 "metadata": {
  "language_info": {
   "name": "python"
  }
 },
 "nbformat": 4,
 "nbformat_minor": 2
}
