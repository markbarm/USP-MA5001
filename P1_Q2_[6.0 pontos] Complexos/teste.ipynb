{
 "cells": [
  {
   "cell_type": "code",
   "execution_count": 18,
   "metadata": {},
   "outputs": [],
   "source": [
    "from math import sqrt\n",
    "\n",
    "#Crie uma classe para números complexos, ou seja, teremos um objeto x com parte real e imaginária: x.real e x.imag\n",
    "\n",
    "class Complexo(object):\n",
    "\n",
    "    def __init__(self,real,imag):\n",
    "        self.real = float(real)\n",
    "        self.imag = float(imag)\n",
    "    \n",
    "    def __str__(self):\n",
    "        sign='+'\n",
    "        if self.imag<0: sign=' '\n",
    "        return format(self.real,'.2f') + sign + format(self.imag,'.2f')+\"i\"\n",
    "    \n",
    "#Implemente as operações a seguir como métodos da classe complexo a ser criada: +, -, /, *, abs, ==.\n",
    "\n",
    "    def __add__(self,other):\n",
    "        resultado_real = self.real + other.real\n",
    "        resultado_imag = self.imag + other.imag\n",
    "        return Complexo(resultado_real,resultado_imag)\n",
    "\n",
    "    def __sub__(self, other):\n",
    "        resultado_real = self.real - other.real\n",
    "        resultado_imag = self.imag - other.imag\n",
    "        return Complexo(resultado_real,resultado_imag)\n",
    "    \n",
    "    def __mul__(self,other):\n",
    "        resultado_real = self.real * other.real - self.imag * other.imag\n",
    "        resultado_imag = self.real * other.imag + self.imag * other.real\n",
    "        return Complexo(resultado_real,resultado_imag)\n",
    "    \n",
    "    def __abs__(self):\n",
    "        return round(sqrt(self.real**2 + self.imag**2),2)\n",
    "        \n",
    "    def __truediv__(self,other):\n",
    "        resultado_real = (self.real * other.real + self.imag * other.imag)/(other.real**2 + other.imag**2)\n",
    "        resultado_imag = (-self.real * other.imag + self.imag * other.real)/(other.real**2 + other.imag**2)\n",
    "        return Complexo(resultado_real,resultado_imag)\n",
    "\n",
    "    def __eq__(self,other):\n",
    "        if (self.real,self.imag)== (other.real,other.imag):\n",
    "            return True\n",
    "        else: \n",
    "            return False\n",
    "            \n",
    "def le_complexo(linha):\n",
    "    real,imag = linha.split(',')\n",
    "    return Complexo(real,imag)"
   ]
  },
  {
   "cell_type": "code",
   "execution_count": 19,
   "metadata": {},
   "outputs": [
    {
     "name": "stdout",
     "output_type": "stream",
     "text": [
      "==:False\n",
      "abs:2.24\n",
      "abs:5.00\n",
      "+:4.00+6.00i\n"
     ]
    }
   ],
   "source": [
    "# Caso teste 1\n",
    "input_1='== abs +'\n",
    "input_2='1,2'\n",
    "input_3='3,4'\n",
    "\n",
    "operacoes=list(input_1.split(' '))\n",
    "x = le_complexo(input_2)\n",
    "y = le_complexo(input_3)\n",
    "\n",
    "for op in operacoes:\n",
    "    if op == 'abs':\n",
    "        print('abs:{0:.2f}\\nabs:{1:.2f}'.format(abs(x),abs(y)))\n",
    "    else:\n",
    "        print('{0}:{1}'.format(op,eval(f'x{op}y')))"
   ]
  },
  {
   "cell_type": "code",
   "execution_count": 20,
   "metadata": {},
   "outputs": [
    {
     "name": "stdout",
     "output_type": "stream",
     "text": [
      "*:-4.44+3.92i\n",
      "/:-2.68+1.26i\n",
      "-:-4.90+2.50i\n"
     ]
    }
   ],
   "source": [
    "# Caso teste 2\n",
    "input_1='* / -'\n",
    "input_2='-3.5,2.3'\n",
    "input_3='1.4,-0.2'\n",
    "\n",
    "operacoes=list(input_1.split(' '))\n",
    "x = le_complexo(input_2)\n",
    "y = le_complexo(input_3)\n",
    "\n",
    "for op in operacoes:\n",
    "    if op == 'abs':\n",
    "        print('abs:{0:.2f}\\nabs:{1:.2f}'.format(abs(x),abs(y)))\n",
    "    else:\n",
    "        print('{0}:{1}'.format(op,eval(f'x{op}y')))"
   ]
  },
  {
   "cell_type": "code",
   "execution_count": 21,
   "metadata": {},
   "outputs": [
    {
     "name": "stdout",
     "output_type": "stream",
     "text": [
      "+:-3.20+12.80i\n",
      "-:-5.80 -14.40i\n",
      "*:5.03 -62.24i\n",
      "/:-0.09+0.32i\n",
      "abs:4.57\n",
      "abs:13.66\n",
      "==:False\n"
     ]
    }
   ],
   "source": [
    "# Caso teste 3\n",
    "input_1='+ - * / abs =='\n",
    "input_2='-4.5,-0.8'\n",
    "input_3='1.3,13.6'\n",
    "\n",
    "operacoes=list(input_1.split(' '))\n",
    "x = le_complexo(input_2)\n",
    "y = le_complexo(input_3)\n",
    "\n",
    "for op in operacoes:\n",
    "    if op == 'abs':\n",
    "        print('abs:{0:.2f}\\nabs:{1:.2f}'.format(abs(x),abs(y)))\n",
    "    else:\n",
    "        print('{0}:{1}'.format(op,eval(f'x{op}y')))"
   ]
  },
  {
   "cell_type": "code",
   "execution_count": null,
   "metadata": {},
   "outputs": [],
   "source": []
  }
 ],
 "metadata": {
  "kernelspec": {
   "display_name": "Python 3",
   "language": "python",
   "name": "python3"
  },
  "language_info": {
   "codemirror_mode": {
    "name": "ipython",
    "version": 3
   },
   "file_extension": ".py",
   "mimetype": "text/x-python",
   "name": "python",
   "nbconvert_exporter": "python",
   "pygments_lexer": "ipython3",
   "version": "3.10.12"
  }
 },
 "nbformat": 4,
 "nbformat_minor": 2
}
