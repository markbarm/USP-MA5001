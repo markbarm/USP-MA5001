{
 "cells": [
  {
   "cell_type": "code",
   "execution_count": null,
   "metadata": {},
   "outputs": [],
   "source": [
    "\"\"\"\n",
    "Considere a seguinte representação para complexos x=(x.real) + (x.imag)i nas operações detalhadas abaixo\n",
    "\n",
    "xy= (x.realy.real - x.imagy.imag) + ( x.imagy.real + x.real*y.imag)i\n",
    "\n",
    "x/y= ( (x.realy.real+x.imagy.imag)/r ) + ( (x.imagy.real-x.realy.imag)/r )i, onde r= y.real2 + y.imag2)\n",
    "\n",
    "abs(x) = sqrt(x.real2 + x.imag2)\n",
    "\n",
    "x==y: Se (x.real==y.real) E (x.imag==y.imag), verdeiro; caso contrário, falso.\n",
    "\n",
    "Uma lista de operações será repassada, seguida pelo valor de dois números complexos como ilustrado nos exemplos abaixo de entrada e saída.\n",
    "\"\"\""
   ]
  },
  {
   "cell_type": "code",
   "execution_count": 4,
   "metadata": {},
   "outputs": [],
   "source": [
    "from math import sqrt\n",
    "\n",
    "#Crie uma classe para números complexos, ou seja, teremos um objeto x com parte real e imaginária: x.real e x.imag\n",
    "\n",
    "class Complexo(object):\n",
    "\n",
    "    def __init__(self,real,imag):\n",
    "        self.real = float(real)\n",
    "        self.imag = float(imag)\n",
    "    \n",
    "    def __str__(self):\n",
    "        return format(self.real,'.2f') + \"+\" + format(self.imag,'.2f')+\"i\"\n",
    "    \n",
    "#Implemente as operações a seguir como métodos da classe complexo a ser criada: +, -, /, *, abs, ==.\n",
    "\n",
    "    def __add__(self,other):\n",
    "        resultado_real = self.real + other.real\n",
    "        resultado_imag = self.imag + other.imag\n",
    "        return Complexo(resultado_real,resultado_imag)\n",
    "\n",
    "    def __sub__(self, other):\n",
    "        resultado_real = self.real - other.real\n",
    "        resultado_imag = self.imag - other.imag\n",
    "        return Complexo(resultado_real,resultado_imag)\n",
    "    \n",
    "    def __mul__(self,other):\n",
    "        resultado_real = self.real * other.real - self.imag * other.imag\n",
    "        resultado_imag = self.real * other.imag + self.imag * other.real\n",
    "        return Complexo(resultado_real,resultado_imag)\n",
    "    \n",
    "    def __abs__(self):\n",
    "        return round(sqrt(self.real**2 + self.imag**2),2)\n",
    "        \n",
    "    def __truediv__(self,other):\n",
    "        resultado_real = (self.real * other.real + self.imag * other.imag)/abs(other)\n",
    "        resultado_imag = (-self.real * other.imag + self.imag * other.real)/abs(other)\n",
    "        return Complexo(resultado_real,resultado_imag)\n",
    "\n",
    "    def __eq__(self,other):\n",
    "        if (self.real,self.imag)== (other.real,other.imag):\n",
    "            return True\n",
    "        else: \n",
    "            return False\n",
    "            \n",
    "def le_complexo(linha):\n",
    "    real,imag = linha.split(',')\n",
    "    return Complexo(real,imag)"
   ]
  },
  {
   "cell_type": "code",
   "execution_count": 12,
   "metadata": {},
   "outputs": [
    {
     "name": "stdout",
     "output_type": "stream",
     "text": [
      "==:False\n",
      "abs:2.24\n",
      "abs:5.0\n",
      "+:4.00+6.00i\n"
     ]
    }
   ],
   "source": [
    "input_1='== abs +'\n",
    "input_2='1,2'\n",
    "input_3='3,4'\n",
    "\n",
    "operacoes=list(input_1.split(' '))\n",
    "x = le_complexo(input_2)\n",
    "y = le_complexo(input_3)\n",
    "\n",
    "for op in operacoes:\n",
    "    if op == 'abs':\n",
    "        print(f'abs:{abs(x)}')\n",
    "        print(f'abs:{abs(y)}')\n",
    "    else:\n",
    "        output = eval(f'x{op}y')\n",
    "        print(f'{op}:{output}')\n",
    "    "
   ]
  },
  {
   "cell_type": "code",
   "execution_count": null,
   "metadata": {},
   "outputs": [],
   "source": []
  }
 ],
 "metadata": {
  "kernelspec": {
   "display_name": "Python 3",
   "language": "python",
   "name": "python3"
  },
  "language_info": {
   "codemirror_mode": {
    "name": "ipython",
    "version": 3
   },
   "file_extension": ".py",
   "mimetype": "text/x-python",
   "name": "python",
   "nbconvert_exporter": "python",
   "pygments_lexer": "ipython3",
   "version": "3.10.12"
  }
 },
 "nbformat": 4,
 "nbformat_minor": 2
}
