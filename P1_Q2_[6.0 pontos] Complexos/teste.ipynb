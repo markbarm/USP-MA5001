{
 "cells": [
  {
   "cell_type": "code",
   "execution_count": null,
   "metadata": {},
   "outputs": [],
   "source": [
    "\"\"\"\n",
    "Considere a seguinte representação para complexos x=(x.real) + (x.imag)i nas operações detalhadas abaixo\n",
    "\n",
    "xy= (x.realy.real - x.imagy.imag) + ( x.imagy.real + x.real*y.imag)i\n",
    "\n",
    "x/y= ( (x.realy.real+x.imagy.imag)/r ) + ( (x.imagy.real-x.realy.imag)/r )i, onde r= y.real2 + y.imag2)\n",
    "\n",
    "abs(x) = sqrt(x.real2 + x.imag2)\n",
    "\n",
    "x==y: Se (x.real==y.real) E (x.imag==y.imag), verdeiro; caso contrário, falso.\n",
    "\n",
    "Uma lista de operações será repassada, seguida pelo valor de dois números complexos como ilustrado nos exemplos abaixo de entrada e saída.\n",
    "\"\"\""
   ]
  },
  {
   "cell_type": "code",
   "execution_count": 61,
   "metadata": {},
   "outputs": [
    {
     "name": "stdout",
     "output_type": "stream",
     "text": [
      "x = 3.00 + 4.00 i\n",
      "y = 2.00 + 1.00 i\n",
      "x+y = 5.00 + 5.00 i\n",
      "x-y = 1.00 + 3.00 i\n",
      "x*y = 2.00 + 11.00 i\n",
      "|x| = 5.0\n",
      "o Conjugado de 2.00 + 1.00 i é 2.00 + -1.00 i\n",
      "x/y=4.46 + 2.23 i\n",
      "False\n"
     ]
    }
   ],
   "source": [
    "from math import sqrt\n",
    "\n",
    "#Crie uma classe para números complexos, ou seja, teremos um objeto x com parte real e imaginária: x.real e x.imag\n",
    "\n",
    "class Complexo(object):\n",
    "\n",
    "    def __init__(self,real,imag):\n",
    "        self.real = real\n",
    "        self.imag = imag\n",
    "    \n",
    "    def __str__(self):\n",
    "        return format(self.real,'.2f') + \" + \" + format(self.imag,'.2f')+\" i\"\n",
    "    \n",
    "#Implemente as operações a seguir como métodos da classe complexo a ser criada: +, -, /, *, abs, ==.\n",
    "\n",
    "    def __add__(self,other):\n",
    "        resultado_real = self.real + other.real\n",
    "        resultado_imag = self.imag + other.imag\n",
    "        return Complexo(resultado_real,resultado_imag)\n",
    "\n",
    "    def __sub__(self, other):\n",
    "        resultado_real = self.real - other.real\n",
    "        resultado_imag = self.imag - other.imag\n",
    "        return Complexo(resultado_real,resultado_imag)\n",
    "    \n",
    "    def __mul__(self,other):\n",
    "        resultado_real = self.real * other.real - self.imag * other.imag\n",
    "        resultado_imag = self.real * other.imag + self.imag * other.real\n",
    "        return Complexo(resultado_real,resultado_imag)\n",
    "    \n",
    "    def __abs__(self):\n",
    "        return round(sqrt(self.real**2 + self.imag**2),2)\n",
    "    \n",
    "    def conjugado(self):\n",
    "        return Complexo(self.real,-1*self.imag)\n",
    "    \n",
    "    def __truediv__(self,other):\n",
    "        resultado_real = (self.real * other.real + self.imag * other.imag)/abs(other)\n",
    "        resultado_imag = (-self.real * other.imag + self.imag * other.real)/abs(other)\n",
    "        return Complexo(resultado_real,resultado_imag)\n",
    "\n",
    "    def __eq__(self,other):\n",
    "        if (self.real,self.imag)== (other.real,other.imag):\n",
    "            return True\n",
    "        else: \n",
    "            return False\n",
    "            \n",
    "\n",
    "\n",
    "\n",
    "#teste\n",
    "x=Complexo(3,4)\n",
    "y=Complexo(2,1)\n",
    "\n",
    "print(f'x = {x}')\n",
    "print(f'y = {y}')\n",
    "\n",
    "print(f'x+y = {x+y}')\n",
    "print(f'x-y = {x-y}')\n",
    "print(f'x*y = {x*y}')\n",
    "print(f'|x| = {abs(x)}')\n",
    "y.conjugado()\n",
    "print(f'o Conjugado de {y} é {y.conjugado()}')\n",
    "print(f'x/y={x/y}')\n",
    "print(x==y)\n",
    "\n"
   ]
  },
  {
   "cell_type": "code",
   "execution_count": null,
   "metadata": {},
   "outputs": [],
   "source": []
  }
 ],
 "metadata": {
  "kernelspec": {
   "display_name": "Python 3",
   "language": "python",
   "name": "python3"
  },
  "language_info": {
   "codemirror_mode": {
    "name": "ipython",
    "version": 3
   },
   "file_extension": ".py",
   "mimetype": "text/x-python",
   "name": "python",
   "nbconvert_exporter": "python",
   "pygments_lexer": "ipython3",
   "version": "3.10.12"
  }
 },
 "nbformat": 4,
 "nbformat_minor": 2
}
