{
 "cells": [
  {
   "cell_type": "code",
   "execution_count": null,
   "metadata": {},
   "outputs": [],
   "source": [
    "\"\"\"\n",
    "\n",
    "Implemente as operações a seguir como métodos da classe complexo a ser criada: +, -, /, *, abs, ==.\n",
    "\n",
    "Considere a seguinte representação para complexos x=(x.real) + (x.imag)i nas operações detalhadas abaixo\n",
    "\n",
    "xy= (x.realy.real - x.imagy.imag) + ( x.imagy.real + x.real*y.imag)i\n",
    "\n",
    "x/y= ( (x.realy.real+x.imagy.imag)/r ) + ( (x.imagy.real-x.realy.imag)/r )i, onde r= y.real2 + y.imag2)\n",
    "\n",
    "abs(x) = sqrt(x.real2 + x.imag2)\n",
    "\n",
    "x==y: Se (x.real==y.real) E (x.imag==y.imag), verdeiro; caso contrário, falso.\n",
    "\n",
    "Uma lista de operações será repassada, seguida pelo valor de dois números complexos como ilustrado nos exemplos abaixo de entrada e saída.\n",
    "\"\"\""
   ]
  },
  {
   "cell_type": "code",
   "execution_count": 5,
   "metadata": {},
   "outputs": [],
   "source": [
    "#Crie uma classe para números complexos, ou seja, teremos um objeto x com parte real e imaginária: x.real e x.imag\n",
    "\n",
    "class Complexo(object):\n",
    "\n",
    "    def __init__(self,real,imag):\n",
    "        self.real = real\n",
    "        self.imag = imag\n",
    "    \n",
    "    def __str__(self):\n",
    "        return str(self.real) + \"+\" + str(self.imag)+\"i\""
   ]
  },
  {
   "cell_type": "code",
   "execution_count": 6,
   "metadata": {},
   "outputs": [
    {
     "name": "stdout",
     "output_type": "stream",
     "text": [
      "2+3i\n"
     ]
    }
   ],
   "source": [
    "\n",
    "x=Complexo(2,3)\n",
    "print(x)"
   ]
  },
  {
   "cell_type": "code",
   "execution_count": null,
   "metadata": {},
   "outputs": [],
   "source": []
  }
 ],
 "metadata": {
  "kernelspec": {
   "display_name": "Python 3",
   "language": "python",
   "name": "python3"
  },
  "language_info": {
   "codemirror_mode": {
    "name": "ipython",
    "version": 3
   },
   "file_extension": ".py",
   "mimetype": "text/x-python",
   "name": "python",
   "nbconvert_exporter": "python",
   "pygments_lexer": "ipython3",
   "version": "3.10.12"
  }
 },
 "nbformat": 4,
 "nbformat_minor": 2
}
