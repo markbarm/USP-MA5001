{
 "cells": [
  {
   "cell_type": "code",
   "execution_count": 4,
   "metadata": {},
   "outputs": [],
   "source": [
    "def is_perfect(n):\n",
    "    # input: número natural\n",
    "    # output: 'True' se for perfeito ou 'False' se não for perfeito\n",
    "    soma = 0 \n",
    "    test = True\n",
    "    for i in range(1,n):\n",
    "        if n%i == 0:\n",
    "            soma += i\n",
    "    if soma != n:\n",
    "        test = False\n",
    "    return test "
   ]
  },
  {
   "cell_type": "code",
   "execution_count": 14,
   "metadata": {},
   "outputs": [
    {
     "name": "stdout",
     "output_type": "stream",
     "text": [
      "28\n"
     ]
    }
   ],
   "source": [
    "# Entrada\n",
    "input_='10 30'\n",
    "min, max = map(int,input_.split(' '))\n",
    "# Números primos entre as entradas mínimo e máximo\n",
    "perfect=[]\n",
    "for n in range(min, max+1):\n",
    "    if is_perfect(n):\n",
    "        perfect.append(n)\n",
    "\n",
    "# Imprime a saída\n",
    "if len(perfect)>0:\n",
    "    [print(perfect[i]) for i in range(len(perfect))]\n",
    "else:\n",
    "    print('Não foi encontrado número perfeito')"
   ]
  },
  {
   "cell_type": "code",
   "execution_count": null,
   "metadata": {},
   "outputs": [],
   "source": []
  }
 ],
 "metadata": {
  "kernelspec": {
   "display_name": "Python 3",
   "language": "python",
   "name": "python3"
  },
  "language_info": {
   "codemirror_mode": {
    "name": "ipython",
    "version": 3
   },
   "file_extension": ".py",
   "mimetype": "text/x-python",
   "name": "python",
   "nbconvert_exporter": "python",
   "pygments_lexer": "ipython3",
   "version": "3.10.12"
  }
 },
 "nbformat": 4,
 "nbformat_minor": 2
}
